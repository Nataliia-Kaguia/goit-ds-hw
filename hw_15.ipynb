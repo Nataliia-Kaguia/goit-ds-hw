{
  "nbformat": 4,
  "nbformat_minor": 0,
  "metadata": {
    "colab": {
      "provenance": [],
      "authorship_tag": "ABX9TyOo83mBhqcIJIXxkYn/JX5L",
      "include_colab_link": true
    },
    "kernelspec": {
      "name": "python3",
      "display_name": "Python 3"
    },
    "language_info": {
      "name": "python"
    }
  },
  "cells": [
    {
      "cell_type": "markdown",
      "metadata": {
        "id": "view-in-github",
        "colab_type": "text"
      },
      "source": [
        "<a href=\"https://colab.research.google.com/github/Nataliia-Kaguia/goit-ds-hw/blob/main/hw_15.ipynb\" target=\"_parent\"><img src=\"https://colab.research.google.com/assets/colab-badge.svg\" alt=\"Open In Colab\"/></a>"
      ]
    },
    {
      "cell_type": "code",
      "execution_count": null,
      "metadata": {
        "colab": {
          "base_uri": "https://localhost:8080/"
        },
        "id": "gOHxZMm_o2jB",
        "outputId": "6ace718b-2048-4b58-d06a-a4abcf656bbc"
      },
      "outputs": [
        {
          "output_type": "stream",
          "name": "stderr",
          "text": [
            "[nltk_data] Downloading package punkt to /root/nltk_data...\n",
            "[nltk_data]   Package punkt is already up-to-date!\n",
            "[nltk_data] Downloading package punkt_tab to /root/nltk_data...\n"
          ]
        },
        {
          "output_type": "stream",
          "name": "stdout",
          "text": [
            "['\\nThe Orbiter Discovery, OV-103, is considered eligible for listing in the National Register of Historic Places (NRHP) in the context of the U.S. Space Shuttle Program (1969-2011) under Criterion A in the areas of Space Exploration and Transportation and under Criterion C in the area of Engineering.', 'Because it has achieved significance within the past fifty years, Criteria Consideration G applies.', 'Under Criterion A, Discovery is significant as the oldest of the three extant orbiter vehicles constructed for the Space Shuttle Program (SSP), the longest running American space program to date; she was the third of five orbiters built by NASA.', 'Unlike the Mercury, Gemini, and Apollo programs, the SSP’s emphasis was on cost effectiveness and reusability, and eventually the construction of a space station.', 'Including her maiden voyage (launched August 30, 1984), Discovery flew to space thirty-nine times, more than any of the other four orbiters; she was also the first orbiter to fly twenty missions.']\n"
          ]
        },
        {
          "output_type": "stream",
          "name": "stderr",
          "text": [
            "[nltk_data]   Unzipping tokenizers/punkt_tab.zip.\n"
          ]
        }
      ],
      "source": [
        "import spacy\n",
        "import nltk\n",
        "from nltk.tokenize import sent_tokenize\n",
        "\n",
        "# Завантаження необхідних моделей\n",
        "nltk.download('punkt')\n",
        "nltk.download('punkt_tab')\n",
        "\n",
        "# Розбивка на речення\n",
        "sentences = sent_tokenize(text)\n",
        "print(sentences[:5])  # подивимось перші 5\n"
      ]
    },
    {
      "cell_type": "code",
      "source": [
        "# Вхідний текст\n",
        "text = \"\"\"\n",
        "The Orbiter Discovery, OV-103, is considered eligible for listing in the National Register of Historic Places (NRHP) in the context of the U.S. Space Shuttle Program (1969-2011) under Criterion A in the areas of Space Exploration and Transportation and under Criterion C in the area of Engineering. Because it has achieved significance within the past fifty years, Criteria Consideration G applies. Under Criterion A, Discovery is significant as the oldest of the three extant orbiter vehicles constructed for the Space Shuttle Program (SSP), the longest running American space program to date; she was the third of five orbiters built by NASA. Unlike the Mercury, Gemini, and Apollo programs, the SSP’s emphasis was on cost effectiveness and reusability, and eventually the construction of a space station. Including her maiden voyage (launched August 30, 1984), Discovery flew to space thirty-nine times, more than any of the other four orbiters; she was also the first orbiter to fly twenty missions. She had the honor of being chosen as the Return to Flight vehicle after both the Challenger and Columbia accidents. Discovery was the first shuttle to fly with the redesigned SRBs, a result of the Challenger accident, and the first shuttle to fly with the Phase II and Block I SSME. Discovery also carried the Hubble Space Telescope to orbit and performed two of the five servicing missions to the observatory. She flew the first and last dedicated Department of Defense (DoD) missions, as well as the first unclassified defense-related mission. In addition, Discovery was vital to the construction of the International Space Station (ISS); she flew thirteen of the thirty-seven total missions flown to the station by a U.S. Space Shuttle. She was the first orbiter to dock to the ISS, and the first to perform an exchange of a resident crew. Under Criterion C, Discovery is significant as a feat of engineering. According to Wayne Hale, a flight director from Johnson Space Center, the Space Shuttle orbiter represents a “huge technological leap from expendable rockets and capsules to a reusable, winged, hypersonic, cargo-carrying spacecraft.” Although her base structure followed a conventional aircraft design, she used advanced materials that both minimized her weight for cargo-carrying purposes and featured low thermal expansion ratios, which provided a stable base for her Thermal Protection System (TPS) materials. The Space Shuttle orbiter also featured the first reusable TPS; all previous spaceflight vehicles had a single-use, ablative heat shield. Other notable engineering achievements of the orbiter included the first reusable orbital propulsion system, and the first two-fault-tolerant Integrated Avionics System. As Hale stated, the Space Shuttle remains “the largest, fastest, winged hypersonic aircraft in history,” having regularly flown at twenty-five times the speed of sound.\n",
        "\"\"\""
      ],
      "metadata": {
        "id": "Hp6mgkpqpBmn"
      },
      "execution_count": null,
      "outputs": []
    },
    {
      "cell_type": "code",
      "source": [
        "# 1. Розбиваємо текст на речення (NLTK)\n",
        "# -------------------------------\n",
        "sentences = sent_tokenize(text)\n"
      ],
      "metadata": {
        "id": "ramP2bMmpP0D"
      },
      "execution_count": null,
      "outputs": []
    },
    {
      "cell_type": "code",
      "source": [
        "# 2. Аналізуємо текст SpaCy\n",
        "# -------------------------------\n",
        "doc = nlp(text)\n"
      ],
      "metadata": {
        "id": "2MBxQ6nbpT-O"
      },
      "execution_count": null,
      "outputs": []
    },
    {
      "cell_type": "code",
      "source": [
        "# 3. Витягуємо іменовані сутності\n",
        "# -------------------------------\n",
        "entities = [(ent.text, ent.label_) for ent in doc.ents]\n"
      ],
      "metadata": {
        "id": "-TOwJilVpc4U"
      },
      "execution_count": null,
      "outputs": []
    },
    {
      "cell_type": "code",
      "source": [
        "# 4. Екстрактивне summary\n",
        "# Виберемо ключові речення з певними словами\n",
        "# -------------------------------\n",
        "keywords = [\"significant\", \"first\", \"engineering\", \"missions\", \"important\", \"Discovery\"]\n",
        "\n",
        "summary_sentences = [sent for sent in sentences if any(k in sent for k in keywords)]\n",
        "summary = \" \".join(summary_sentences)\n"
      ],
      "metadata": {
        "id": "B65poSVfpgjs"
      },
      "execution_count": null,
      "outputs": []
    },
    {
      "cell_type": "code",
      "source": [
        "# 5. Виводимо результат\n",
        "# -------------------------------\n",
        "print(\"=== AUTO SUMMARY (NLTK + SpaCy) ===\\n\")\n",
        "print(summary)\n",
        "\n",
        "print(\"\\n=== NAMED ENTITIES (SpaCy) ===\\n\")\n",
        "print(entities)\n"
      ],
      "metadata": {
        "colab": {
          "base_uri": "https://localhost:8080/"
        },
        "id": "wL3oRcUUplQb",
        "outputId": "0a66a04e-6d03-4c05-a64b-a5160c711e65"
      },
      "execution_count": null,
      "outputs": [
        {
          "output_type": "stream",
          "name": "stdout",
          "text": [
            "=== AUTO SUMMARY (NLTK + SpaCy) ===\n",
            "\n",
            "\n",
            "The Orbiter Discovery, OV-103, is considered eligible for listing in the National Register of Historic Places (NRHP) in the context of the U.S. Space Shuttle Program (1969-2011) under Criterion A in the areas of Space Exploration and Transportation and under Criterion C in the area of Engineering. Under Criterion A, Discovery is significant as the oldest of the three extant orbiter vehicles constructed for the Space Shuttle Program (SSP), the longest running American space program to date; she was the third of five orbiters built by NASA. Including her maiden voyage (launched August 30, 1984), Discovery flew to space thirty-nine times, more than any of the other four orbiters; she was also the first orbiter to fly twenty missions. Discovery was the first shuttle to fly with the redesigned SRBs, a result of the Challenger accident, and the first shuttle to fly with the Phase II and Block I SSME. Discovery also carried the Hubble Space Telescope to orbit and performed two of the five servicing missions to the observatory. She flew the first and last dedicated Department of Defense (DoD) missions, as well as the first unclassified defense-related mission. In addition, Discovery was vital to the construction of the International Space Station (ISS); she flew thirteen of the thirty-seven total missions flown to the station by a U.S. Space Shuttle. She was the first orbiter to dock to the ISS, and the first to perform an exchange of a resident crew. Under Criterion C, Discovery is significant as a feat of engineering. The Space Shuttle orbiter also featured the first reusable TPS; all previous spaceflight vehicles had a single-use, ablative heat shield. Other notable engineering achievements of the orbiter included the first reusable orbital propulsion system, and the first two-fault-tolerant Integrated Avionics System.\n",
            "\n",
            "=== NAMED ENTITIES (SpaCy) ===\n",
            "\n",
            "[('The Orbiter Discovery', 'WORK_OF_ART'), ('the National Register of Historic Places', 'ORG'), ('NRHP', 'ORG'), ('the U.S. Space Shuttle Program', 'ORG'), ('1969-2011', 'DATE'), ('Criterion A', 'PRODUCT'), ('Space Exploration and Transportation', 'ORG'), ('Engineering', 'GPE'), ('the past fifty years', 'DATE'), ('Criteria Consideration', 'PERSON'), ('Discovery', 'PRODUCT'), ('three', 'CARDINAL'), ('the Space Shuttle Program', 'ORG'), ('SSP', 'ORG'), ('American', 'NORP'), ('third', 'ORDINAL'), ('five', 'CARDINAL'), ('NASA', 'ORG'), ('Mercury', 'ORG'), ('Gemini', 'GPE'), ('Apollo', 'ORG'), ('SSP', 'ORG'), ('August 30, 1984', 'DATE'), ('Discovery', 'PRODUCT'), ('thirty-nine', 'CARDINAL'), ('four', 'CARDINAL'), ('first', 'ORDINAL'), ('twenty', 'CARDINAL'), ('Challenger', 'ORG'), ('Columbia', 'ORG'), ('Discovery', 'PRODUCT'), ('first', 'ORDINAL'), ('Challenger', 'ORG'), ('first', 'ORDINAL'), ('the Phase II', 'LAW'), ('Discovery', 'PRODUCT'), ('the Hubble Space Telescope', 'FAC'), ('two', 'CARDINAL'), ('five', 'CARDINAL'), ('first', 'ORDINAL'), ('Department of Defense', 'ORG'), ('first', 'ORDINAL'), ('Discovery', 'PRODUCT'), ('the International Space Station', 'ORG'), ('thirteen', 'CARDINAL'), ('thirty-seven', 'CARDINAL'), ('U.S.', 'GPE'), ('Space Shuttle', 'PERSON'), ('first', 'ORDINAL'), ('ISS', 'ORG'), ('first', 'ORDINAL'), ('Discovery', 'PRODUCT'), ('Wayne Hale', 'PERSON'), ('Johnson Space Center', 'ORG'), ('Space Shuttle', 'PERSON'), ('Space Shuttle', 'PERSON'), ('first', 'ORDINAL'), ('TPS', 'ORG'), ('first', 'ORDINAL'), ('first', 'ORDINAL'), ('two', 'CARDINAL'), ('Integrated Avionics System', 'ORG'), ('Hale', 'PERSON'), ('Space Shuttle', 'PERSON'), ('twenty-five', 'CARDINAL')]\n"
          ]
        }
      ]
    }
  ]
}