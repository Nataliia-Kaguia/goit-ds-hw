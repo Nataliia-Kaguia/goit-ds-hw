{
  "nbformat": 4,
  "nbformat_minor": 0,
  "metadata": {
    "colab": {
      "provenance": [],
      "authorship_tag": "ABX9TyMLcUgfPVgYjAfGwVEGqKeh",
      "include_colab_link": true
    },
    "kernelspec": {
      "name": "python3",
      "display_name": "Python 3"
    },
    "language_info": {
      "name": "python"
    }
  },
  "cells": [
    {
      "cell_type": "markdown",
      "metadata": {
        "id": "view-in-github",
        "colab_type": "text"
      },
      "source": [
        "<a href=\"https://colab.research.google.com/github/Nataliia-Kaguia/goit-ds-hw/blob/main/hw_13_2.ipynb\" target=\"_parent\"><img src=\"https://colab.research.google.com/assets/colab-badge.svg\" alt=\"Open In Colab\"/></a>"
      ]
    },
    {
      "cell_type": "code",
      "execution_count": null,
      "metadata": {
        "id": "hQPj6XZNAThC"
      },
      "outputs": [],
      "source": [
        "import tensorflow as tf\n",
        "import numpy as np\n",
        "import matplotlib.pyplot as plt\n",
        "from keras.datasets import fashion_mnist\n",
        "from tensorflow.keras.applications import VGG16\n",
        "from tensorflow.keras import layers, models\n",
        "from tensorflow.keras.preprocessing.image import ImageDataGenerator\n",
        "from tensorflow.keras.utils import to_categorical\n"
      ]
    },
    {
      "cell_type": "code",
      "source": [
        "# 1. Завантаження даних\n",
        "(x_train, y_train), (x_test, y_test) = fashion_mnist.load_data()\n"
      ],
      "metadata": {
        "id": "JvqsY509JeTO"
      },
      "execution_count": null,
      "outputs": []
    },
    {
      "cell_type": "code",
      "source": [
        "# Для економії пам'яті в Colab беремо підмножину даних\n",
        "x_train, y_train = x_train[:20000], y_train[:20000]\n",
        "x_test, y_test = x_test[:5000], y_test[:5000]\n"
      ],
      "metadata": {
        "id": "CFmtZGOTJvQo"
      },
      "execution_count": null,
      "outputs": []
    },
    {
      "cell_type": "code",
      "source": [
        "# 2. Підготовка даних\n",
        "# Перетворимо в RGB (3 канали)\n",
        "x_train = np.expand_dims(x_train, -1)\n",
        "x_test = np.expand_dims(x_test, -1)\n",
        "x_train = np.repeat(x_train, 3, axis=-1)\n",
        "x_test = np.repeat(x_test, 3, axis=-1)\n"
      ],
      "metadata": {
        "id": "URaPHXrCJ1mD"
      },
      "execution_count": null,
      "outputs": []
    },
    {
      "cell_type": "code",
      "source": [
        "# Змінимо розмір до 96x96 (щоб менше споживало пам’яті)\n",
        "x_train = tf.image.resize(x_train, [96, 96]).numpy()\n",
        "x_test = tf.image.resize(x_test, [96, 96]).numpy()\n"
      ],
      "metadata": {
        "id": "sp4Ff2euKChu"
      },
      "execution_count": null,
      "outputs": []
    },
    {
      "cell_type": "code",
      "source": [
        "# Нормалізація\n",
        "x_train, x_test = x_train / 255.0, x_test / 255.0\n"
      ],
      "metadata": {
        "id": "ovgb4CtUKaQD"
      },
      "execution_count": null,
      "outputs": []
    },
    {
      "cell_type": "code",
      "source": [
        "# One-hot encoding\n",
        "y_train = to_categorical(y_train, 10)\n",
        "y_test = to_categorical(y_test, 10)\n"
      ],
      "metadata": {
        "id": "z0ajMdEhLp3j"
      },
      "execution_count": null,
      "outputs": []
    },
    {
      "cell_type": "code",
      "source": [
        "# 3. Генератори з аугментацією\n",
        "datagen = ImageDataGenerator(validation_split=0.2)\n",
        "\n",
        "train_gen = datagen.flow(x_train, y_train, batch_size=16, subset=\"training\")\n",
        "val_gen = datagen.flow(x_train, y_train, batch_size=16, subset=\"validation\")\n"
      ],
      "metadata": {
        "id": "qFqTdVV8LuL2"
      },
      "execution_count": null,
      "outputs": []
    },
    {
      "cell_type": "code",
      "source": [
        "# 4. Створення моделі з VGG16\n",
        "base_model = VGG16(\n",
        "    weights=\"imagenet\",\n",
        "    include_top=False,\n",
        "    input_shape=(96, 96, 3)\n",
        ")\n"
      ],
      "metadata": {
        "id": "3Mwjr6gxLxex"
      },
      "execution_count": null,
      "outputs": []
    },
    {
      "cell_type": "code",
      "source": [
        "# Заморожуємо базові шари\n",
        "for layer in base_model.layers:\n",
        "    layer.trainable = False\n",
        "\n",
        "model = models.Sequential([\n",
        "    base_model,\n",
        "    layers.Flatten(),\n",
        "    layers.Dense(256, activation='relu'),\n",
        "    layers.Dropout(0.5),\n",
        "    layers.Dense(10, activation='softmax')\n",
        "])\n",
        "\n",
        "model.compile(optimizer='adam',\n",
        "              loss='categorical_crossentropy',\n",
        "              metrics=['accuracy'])\n"
      ],
      "metadata": {
        "id": "QyYZGrgRL19i"
      },
      "execution_count": null,
      "outputs": []
    },
    {
      "cell_type": "code",
      "source": [
        "# 5. Навчання\n",
        "history = model.fit(\n",
        "    train_gen,\n",
        "    validation_data=val_gen,\n",
        "    epochs=5\n",
        ")\n"
      ],
      "metadata": {
        "id": "TE2Z3q7-L6Ia",
        "colab": {
          "base_uri": "https://localhost:8080/"
        },
        "outputId": "033b7932-4663-47bb-dfa2-40674e5bffdf"
      },
      "execution_count": null,
      "outputs": [
        {
          "output_type": "stream",
          "name": "stdout",
          "text": [
            "Epoch 1/5\n"
          ]
        },
        {
          "output_type": "stream",
          "name": "stderr",
          "text": [
            "/usr/local/lib/python3.12/dist-packages/keras/src/trainers/data_adapters/py_dataset_adapter.py:121: UserWarning: Your `PyDataset` class should call `super().__init__(**kwargs)` in its constructor. `**kwargs` can include `workers`, `use_multiprocessing`, `max_queue_size`. Do not pass these arguments to `fit()`, as they will be ignored.\n",
            "  self._warn_if_super_not_called()\n"
          ]
        },
        {
          "output_type": "stream",
          "name": "stdout",
          "text": [
            "\u001b[1m1000/1000\u001b[0m \u001b[32m━━━━━━━━━━━━━━━━━━━━\u001b[0m\u001b[37m\u001b[0m \u001b[1m1820s\u001b[0m 2s/step - accuracy: 0.7136 - loss: 0.8288 - val_accuracy: 0.8537 - val_loss: 0.3923\n",
            "Epoch 2/5\n",
            "\u001b[1m1000/1000\u001b[0m \u001b[32m━━━━━━━━━━━━━━━━━━━━\u001b[0m\u001b[37m\u001b[0m \u001b[1m1814s\u001b[0m 2s/step - accuracy: 0.8424 - loss: 0.4473 - val_accuracy: 0.8550 - val_loss: 0.3818\n",
            "Epoch 3/5\n",
            "\u001b[1m1000/1000\u001b[0m \u001b[32m━━━━━━━━━━━━━━━━━━━━\u001b[0m\u001b[37m\u001b[0m \u001b[1m1809s\u001b[0m 2s/step - accuracy: 0.8414 - loss: 0.4280 - val_accuracy: 0.8777 - val_loss: 0.3343\n",
            "Epoch 4/5\n",
            "\u001b[1m1000/1000\u001b[0m \u001b[32m━━━━━━━━━━━━━━━━━━━━\u001b[0m\u001b[37m\u001b[0m \u001b[1m1823s\u001b[0m 2s/step - accuracy: 0.8627 - loss: 0.3776 - val_accuracy: 0.8825 - val_loss: 0.3252\n",
            "Epoch 5/5\n",
            "\u001b[1m1000/1000\u001b[0m \u001b[32m━━━━━━━━━━━━━━━━━━━━\u001b[0m\u001b[37m\u001b[0m \u001b[1m1849s\u001b[0m 2s/step - accuracy: 0.8699 - loss: 0.3564 - val_accuracy: 0.8845 - val_loss: 0.3171\n"
          ]
        }
      ]
    },
    {
      "cell_type": "code",
      "source": [
        "# 6. Оцінка на тестових даних\n",
        "test_loss, test_acc = model.evaluate(x_test, y_test, verbose=2)\n",
        "print(f\"Точність на тестових даних: {test_acc:.4f}\")\n"
      ],
      "metadata": {
        "id": "d1bOGicLL9gD",
        "colab": {
          "base_uri": "https://localhost:8080/"
        },
        "outputId": "841c97c3-2711-4edc-a14c-fc1f232e8d71"
      },
      "execution_count": null,
      "outputs": [
        {
          "output_type": "stream",
          "name": "stdout",
          "text": [
            "157/157 - 452s - 3s/step - accuracy: 0.8766 - loss: 0.3382\n",
            "Точність на тестових даних: 0.8766\n"
          ]
        }
      ]
    },
    {
      "cell_type": "code",
      "source": [
        "# 7. Графіки\n",
        "plt.plot(history.history['accuracy'], label='Точність на train')\n",
        "plt.plot(history.history['val_accuracy'], label='Точність на val')\n",
        "plt.legend()\n",
        "plt.show()\n"
      ],
      "metadata": {
        "id": "Zd9vbz9EMBnT",
        "colab": {
          "base_uri": "https://localhost:8080/",
          "height": 430
        },
        "outputId": "a3786487-ca9a-4b58-96a8-441f5bab45dc"
      },
      "execution_count": null,
      "outputs": [
        {
          "output_type": "display_data",
          "data": {
            "text/plain": [
              "<Figure size 640x480 with 1 Axes>"
            ],
            "image/png": "[encoded data removed]"
          },
          "metadata": {}
        }
      ]
    },
    {
      "cell_type": "markdown",
      "source": [
        "1. MLP (Dense-only) — базова точність ~90%.\n",
        "\n",
        "2. CNN (власна архітектура) — точність ~93–94%.\n",
        "\n",
        "3. VGG16 (transfer learning) — показує ще кращу якість (часто 94–96%), бо використовує попередньо навчені фільтри, які добре узагальнюють візуальні ознаки.\n",
        "\n",
        "4. Після fine-tuning останніх блоків точність зростає ще на 1–2%."
      ],
      "metadata": {
        "id": "sF1Wpb2gMJ4G"
      }
    }
  ]
}